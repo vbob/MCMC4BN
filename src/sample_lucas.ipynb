{
 "cells": [
  {
   "cell_type": "code",
   "execution_count": 69,
   "id": "9a5c7f85-2afc-4fa1-bf59-c521fc5c4c0f",
   "metadata": {},
   "outputs": [],
   "source": [
    "import random\n",
    "\n",
    "import pandas as pd\n",
    "import networkx as nx\n",
    "\n",
    "from pgmpy.models import BayesianNetwork\n",
    "from pgmpy.estimators import HillClimbSearch, BDeuScore, BicScore, K2Score, MaximumLikelihoodEstimator\n",
    "from pgmpy.factors.discrete import TabularCPD\n",
    "from pgmpy.inference import VariableElimination\n",
    "from pgmpy.sampling import BayesianModelSampling\n",
    "\n",
    "from tqdm import tqdm"
   ]
  },
  {
   "cell_type": "code",
   "execution_count": 14,
   "id": "409be6fa-831e-46f6-9fe3-d2fa102b5664",
   "metadata": {},
   "outputs": [],
   "source": [
    "base_model = BayesianNetwork([('Smoking', 'Lung_Cancer'),\n",
    "                            ('Genetics', 'Lung_Cancer'),\n",
    "                            ('Genetics', 'Attention_Disorder'),\n",
    "                            ('Smoking', 'Yellow_Fingers'),\n",
    "                            ('Anxiety', 'Smoking'),\n",
    "                            ('Peer_Pressure', 'Smoking'),\n",
    "                            ('Allergy', 'Coughing'),\n",
    "                            ('Lung_Cancer', 'Coughing'),\n",
    "                            ('Coughing', 'Fatigue'),\n",
    "                            ('Lung_Cancer', 'Fatigue'),\n",
    "                            ('Fatigue', 'Car_Accident'),\n",
    "                            ('Attention_Disorder', 'Car_Accident')])\n",
    "\n",
    "base_model.add_node(\"Born_an_Even_Day\")"
   ]
  },
  {
   "cell_type": "code",
   "execution_count": 15,
   "id": "62de0f89-95ec-481e-9eda-394fff713ab9",
   "metadata": {},
   "outputs": [],
   "source": [
    "Anxiety_CPD = TabularCPD(variable='Anxiety', variable_card=2, values=[[1-0.64277], [0.64277]])\n",
    "\n",
    "Peer_Pressure_CPD = TabularCPD(variable='Peer_Pressure', variable_card=2, values=[[1-0.32997], [0.32997]])\n",
    "\n",
    "Genetics_CPD = TabularCPD(variable='Genetics', variable_card=2, values=[[1-0.15953], [0.15953]])\n",
    "\n",
    "Born_an_Even_Day_CPD = TabularCPD(variable='Born_an_Even_Day', variable_card=2, values=[[1-0.5], [0.5]])\n",
    "\n",
    "Allergy_CPD = TabularCPD(variable='Allergy', variable_card=2, values=[[1-0.32841], [0.32841]])\n",
    "\n",
    "Yellow_Fingers_CPD = TabularCPD(variable='Yellow_Fingers', variable_card=2,\n",
    "                                values=[[1-0.23119, 1-0.95372],\n",
    "                                        [  0.23119,   0.95372]],\n",
    "                                evidence=['Smoking'],\n",
    "                                evidence_card=[2])\n",
    "\n",
    "Attention_Disorder_CPD = TabularCPD(variable='Attention_Disorder', variable_card=2,\n",
    "                                values=[[1-0.28956, 1-0.68706],\n",
    "                                        [  0.28956,   0.68706]],\n",
    "                                evidence=['Genetics'],\n",
    "                                evidence_card=[2])\n",
    "\n",
    "Smoking_CPD = TabularCPD(variable='Smoking', variable_card=2, \n",
    "                         values=[[1-0.43118, 1-0.74591, 1-0.8686, 1-0.91576],\n",
    "                                 [  0.43118,   0.74591,   0.8686,   0.91576]],\n",
    "                         evidence=['Anxiety', 'Peer_Pressure'],\n",
    "                         evidence_card=[2, 2])\n",
    "\n",
    "Lung_Cancer_CPD = TabularCPD(variable='Lung_Cancer', variable_card=2, \n",
    "                             values=[[1-0.23146, 1-0.83934, 1-0.86996, 1-0.99351],\n",
    "                                     [  0.23146,   0.83934,   0.86996,   0.99351]],\n",
    "                             evidence=['Genetics', 'Smoking'],\n",
    "                             evidence_card=[2, 2])\n",
    "\n",
    "Coughing_CPD = TabularCPD(variable='Coughing', variable_card=2, \n",
    "                          values=[[1-0.1347, 1-0.7664, 1-0.64592, 1-0.99947],\n",
    "                                  [  0.1347,   0.7664,   0.64592,   0.99947]],\n",
    "                          evidence=['Allergy', 'Lung_Cancer'],\n",
    "                          evidence_card=[2, 2])\n",
    "\n",
    "Fatigue_CPD = TabularCPD(variable='Fatigue', variable_card=2, \n",
    "                          values=[[1-0.35212, 1-0.80016, 1-0.56514, 1-0.89589],\n",
    "                                  [  0.35212,   0.80016,   0.56514,   0.89589]],\n",
    "                          evidence=['Lung_Cancer', 'Coughing'],\n",
    "                          evidence_card=[2, 2])\n",
    "\n",
    "Car_Accident_CPD = TabularCPD(variable='Car_Accident', variable_card=2, \n",
    "                          values=[[1-0.2274, 1-0.78861 , 1-0.779, 1-0.97169],\n",
    "                                  [  0.2274,   0.78861 ,   0.779,   0.97169]],\n",
    "                          evidence=['Attention_Disorder', 'Fatigue'],\n",
    "                          evidence_card=[2, 2])"
   ]
  },
  {
   "cell_type": "code",
   "execution_count": 16,
   "id": "a31f160b-b690-4c0f-b47b-8447f8c6ebd4",
   "metadata": {},
   "outputs": [],
   "source": [
    "base_model.add_cpds(Anxiety_CPD, Peer_Pressure_CPD, Smoking_CPD, Yellow_Fingers_CPD, Genetics_CPD, \n",
    "                    Born_an_Even_Day_CPD, Allergy_CPD, Lung_Cancer_CPD, Coughing_CPD, Fatigue_CPD,\n",
    "                    Car_Accident_CPD, Attention_Disorder_CPD)"
   ]
  },
  {
   "cell_type": "code",
   "execution_count": 102,
   "id": "d5aaba56-6d63-4699-8132-517507680b86",
   "metadata": {},
   "outputs": [],
   "source": [
    "NUM_SAMPLES = 1000000\n",
    "SEED = 2021"
   ]
  },
  {
   "cell_type": "code",
   "execution_count": 103,
   "id": "3c4f9abf-7c9f-45af-bab5-353dcf8cbaee",
   "metadata": {},
   "outputs": [
    {
     "data": {
      "application/vnd.jupyter.widget-view+json": {
       "model_id": "65ef013d07ff4a2ab58d3944d74e7b22",
       "version_major": 2,
       "version_minor": 0
      },
      "text/plain": [
       "  0%|          | 0/12 [00:00<?, ?it/s]"
      ]
     },
     "metadata": {},
     "output_type": "display_data"
    }
   ],
   "source": [
    "model_sampling = BayesianModelSampling(base_model)\n",
    "samples = model_sampling.forward_sample(size=NUM_SAMPLES, seed=SEED)\n",
    "pd.DataFrame(samples).to_csv('lucas0_inference_' + str(NUM_SAMPLES) + '_seed_' + str(SEED) +'.csv', index=False)"
   ]
  },
  {
   "cell_type": "code",
   "execution_count": null,
   "id": "de5b4bcf-9f03-4543-9cc5-b301bfbd7d9a",
   "metadata": {},
   "outputs": [],
   "source": []
  }
 ],
 "metadata": {
  "kernelspec": {
   "display_name": "Python 3 (ipykernel)",
   "language": "python",
   "name": "python3"
  },
  "language_info": {
   "codemirror_mode": {
    "name": "ipython",
    "version": 3
   },
   "file_extension": ".py",
   "mimetype": "text/x-python",
   "name": "python",
   "nbconvert_exporter": "python",
   "pygments_lexer": "ipython3",
   "version": "3.9.7"
  }
 },
 "nbformat": 4,
 "nbformat_minor": 5
}
