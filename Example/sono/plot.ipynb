{
 "cells": [
  {
   "cell_type": "code",
   "execution_count": 3,
   "id": "fcf4325a-c6c2-4dcd-a5d6-575bb881e765",
   "metadata": {},
   "outputs": [],
   "source": [
    "import numpy as np\n",
    "import matplotlib.pyplot as plt\n",
    "from matplotlib.lines import Line2D\n",
    "from matplotlib import colors\n",
    "\n",
    "from pgmpy.models import BayesianNetwork\n",
    "from pgmpy.estimators import MaximumLikelihoodEstimator\n",
    "from pgmpy.estimators import HillClimbSearch\n",
    "from pgmpy.estimators import BDeuScore\n",
    "\n",
    "import seaborn as sns\n",
    "import pandas as pd\n",
    "\n",
    "import os\n",
    "import pickle\n",
    "import math\n",
    "\n",
    "import pymc3 as pm\n",
    "import arviz as az\n",
    "import matplotlib.pyplot as plt\n",
    "import networkx as nx\n",
    "\n",
    "from tqdm import tqdm\n",
    "\n",
    "import itertools as it\n",
    "\n",
    "%matplotlib inline"
   ]
  },
  {
   "cell_type": "code",
   "execution_count": 6,
   "id": "4a0d8b07-794e-46c8-9395-bbf8fd152ba2",
   "metadata": {},
   "outputs": [],
   "source": [
    "BASE_EDGES = [('Smoking', 'Lung_Cancer'),\n",
    "              ('Genetics', 'Lung_Cancer'),\n",
    "              ('Genetics', 'Attention_Disorder'),\n",
    "              ('Smoking', 'Yellow_Fingers'),\n",
    "              ('Anxiety', 'Smoking'),\n",
    "              ('Peer_Pressure', 'Smoking'),\n",
    "              ('Allergy', 'Coughing'),\n",
    "              ('Lung_Cancer', 'Coughing'),\n",
    "              ('Coughing', 'Fatigue'),\n",
    "              ('Lung_Cancer', 'Fatigue'),\n",
    "              ('Fatigue', 'Car_Accident'),\n",
    "              ('Attention_Disorder', 'Car_Accident')]\n",
    "\n",
    "INPUT_FILE = './lucas0.csv'\n",
    "\n",
    "MCMC_DIRECTORY = \"./mcmc/\"\n",
    "\n",
    "SCENARIO_NAME = \"SAIDA_GA_JOAO\""
   ]
  },
  {
   "cell_type": "code",
   "execution_count": 7,
   "id": "f21e01bc-4dfc-4240-afb8-dffdd22b6380",
   "metadata": {},
   "outputs": [],
   "source": [
    "def plot_pair(pair,ax):\n",
    "    fig = plt.figure(figsize=(3.5,4))\n",
    "    \n",
    "    ax = sns.violinplot(data=plot_data[pair],\n",
    "                         cut=0, scale=\"width\", palette=[\"blue\", \"red\", \"green\"], ax=ax)\n",
    "    ax.set(title=pair, ylim=(0,1), xticklabels=[\"Right\", \"No\", \"Left\"])\n",
    "    plt.close(fig)\n",
    "\n",
    "    return fig\n",
    "\n",
    "def calculate_avg_not_exists(item):\n",
    "    return np.mean(item[1][:, 1])\n",
    "\n",
    "def get_map(edge):\n",
    "    data = plot_data[edge]\n",
    "    probs = [np.mean(data[:, 0]), np.mean(data[:, 1]), np.average(data[:, 2])]\n",
    "    direction = np.where(probs == np.amax(probs))\n",
    "    \n",
    "    return direction[0][0]"
   ]
  },
  {
   "cell_type": "code",
   "execution_count": 8,
   "id": "ce98582f-d6c5-43d8-943a-2943beb7bc0d",
   "metadata": {},
   "outputs": [
    {
     "data": {
      "application/vnd.jupyter.widget-view+json": {
       "model_id": "6a31a3f60b06434bb8b59689dcb118d5",
       "version_major": 2,
       "version_minor": 0
      },
      "text/plain": [
       "  0%|          | 0/1000000 [00:00<?, ?it/s]"
      ]
     },
     "metadata": {},
     "output_type": "display_data"
    },
    {
     "name": "stdout",
     "output_type": "stream",
     "text": [
      "-6185.291906837807\n"
     ]
    }
   ],
   "source": [
    "official_edges = BASE_EDGES\n",
    "\n",
    "data = pd.read_csv(INPUT_FILE)\n",
    "hc = HillClimbSearch(data)\n",
    "hc_model = hc.estimate(scoring_method=BDeuScore(data))\n",
    "\n",
    "bdeu = BDeuScore(pd.read_csv(INPUT_FILE), equivalent_sample_size=5)\n",
    "print(bdeu.score(hc_model))"
   ]
  },
  {
   "cell_type": "code",
   "execution_count": 9,
   "id": "9d2b39e6-b764-4c1f-8ab6-fdfae0b6321d",
   "metadata": {},
   "outputs": [
    {
     "name": "stderr",
     "output_type": "stream",
     "text": [
      "  0%|                                                     | 0/1 [00:00<?, ?it/s]\n"
     ]
    },
    {
     "ename": "EOFError",
     "evalue": "Ran out of input",
     "output_type": "error",
     "traceback": [
      "\u001b[0;31m---------------------------------------------------------------------------\u001b[0m",
      "\u001b[0;31mEOFError\u001b[0m                                  Traceback (most recent call last)",
      "Input \u001b[0;32mIn [9]\u001b[0m, in \u001b[0;36m<cell line: 7>\u001b[0;34m()\u001b[0m\n\u001b[1;32m      9\u001b[0m     node1, node2 \u001b[38;5;241m=\u001b[39m edge_name\u001b[38;5;241m.\u001b[39msplit(\u001b[38;5;124m\"\u001b[39m\u001b[38;5;124m-\u001b[39m\u001b[38;5;124m\"\u001b[39m)\n\u001b[1;32m     11\u001b[0m     \u001b[38;5;28;01mwith\u001b[39;00m \u001b[38;5;28mopen\u001b[39m(DIRECTORY \u001b[38;5;241m+\u001b[39m possible_edge, \u001b[38;5;124m'\u001b[39m\u001b[38;5;124mrb\u001b[39m\u001b[38;5;124m'\u001b[39m) \u001b[38;5;28;01mas\u001b[39;00m handle:\n\u001b[0;32m---> 12\u001b[0m         model \u001b[38;5;241m=\u001b[39m \u001b[43mpickle\u001b[49m\u001b[38;5;241;43m.\u001b[39;49m\u001b[43mload\u001b[49m\u001b[43m(\u001b[49m\u001b[43mhandle\u001b[49m\u001b[43m)\u001b[49m\n\u001b[1;32m     13\u001b[0m         plot_data[edge_name] \u001b[38;5;241m=\u001b[39m model[\u001b[38;5;124m\"\u001b[39m\u001b[38;5;124mtrace\u001b[39m\u001b[38;5;124m\"\u001b[39m][\u001b[38;5;124m\"\u001b[39m\u001b[38;5;124mfrac\u001b[39m\u001b[38;5;124m\"\u001b[39m]\n\u001b[1;32m     15\u001b[0m sorted_x \u001b[38;5;241m=\u001b[39m \u001b[38;5;28mdict\u001b[39m(\u001b[38;5;28msorted\u001b[39m(plot_data\u001b[38;5;241m.\u001b[39mitems(), key\u001b[38;5;241m=\u001b[39mcalculate_avg_not_exists))\n",
      "\u001b[0;31mEOFError\u001b[0m: Ran out of input"
     ]
    }
   ],
   "source": [
    "DIRECTORY = MCMC_DIRECTORY\n",
    "\n",
    "possible_edges = [*filter(lambda x: \".pickle\" in x and \"mcmc_\" in x, os.listdir(DIRECTORY))]\n",
    "\n",
    "plot_data = dict()\n",
    "\n",
    "for possible_edge in tqdm(possible_edges):\n",
    "    edge_name = possible_edge.split(\"mcmc_\")[1].split(\".pickle\")[0]\n",
    "    node1, node2 = edge_name.split(\"-\")\n",
    "\n",
    "    with open(DIRECTORY + possible_edge, 'rb') as handle:\n",
    "        model = pickle.load(handle)\n",
    "        plot_data[edge_name] = model[\"trace\"][\"frac\"]\n",
    "\n",
    "sorted_x = dict(sorted(plot_data.items(), key=calculate_avg_not_exists))\n",
    "\n",
    "edges = list()\n",
    "for key in sorted_x.keys():\n",
    "    node_left, node_right = key.split(\"-\")\n",
    "    maxima = get_map(key)    \n",
    "    \n",
    "    if maxima == 0:\n",
    "        edges.append((node_left, node_right))\n",
    "        \n",
    "    if maxima == 2:\n",
    "        edges.append((node_right, node_left))\n",
    "        \n",
    "node_names = list(data.columns)\n",
    "\n",
    "model_struct = BayesianNetwork(ebunch=edges)\n",
    "model_struct.nodes()\n",
    "model_struct.fit(data=pd.read_csv(INPUT_FILE), estimator=MaximumLikelihoodEstimator)\n",
    "\n",
    "bdeu = BDeuScore(pd.read_csv(INPUT_FILE), equivalent_sample_size=5)\n",
    "print(bdeu.score(model_struct))"
   ]
  },
  {
   "cell_type": "code",
   "execution_count": null,
   "id": "da98c8d0-21f1-4455-b5a9-aeeb7e33bd58",
   "metadata": {},
   "outputs": [],
   "source": []
  }
 ],
 "metadata": {
  "kernelspec": {
   "display_name": "Python 3 (ipykernel)",
   "language": "python",
   "name": "python3"
  },
  "language_info": {
   "codemirror_mode": {
    "name": "ipython",
    "version": 3
   },
   "file_extension": ".py",
   "mimetype": "text/x-python",
   "name": "python",
   "nbconvert_exporter": "python",
   "pygments_lexer": "ipython3",
   "version": "3.8.13"
  }
 },
 "nbformat": 4,
 "nbformat_minor": 5
}
