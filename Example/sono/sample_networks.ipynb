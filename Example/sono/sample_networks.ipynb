{
 "cells": [
  {
   "cell_type": "code",
   "execution_count": 171,
   "id": "a7b00785-f9af-48b2-a63b-7cbd46052047",
   "metadata": {},
   "outputs": [
    {
     "name": "stdout",
     "output_type": "stream",
     "text": [
      "The autoreload extension is already loaded. To reload it, use:\n",
      "  %reload_ext autoreload\n"
     ]
    }
   ],
   "source": [
    "%load_ext autoreload\n",
    "%autoreload 2"
   ]
  },
  {
   "cell_type": "code",
   "execution_count": 183,
   "id": "f3788974-94b7-4430-b851-13fa6b7c8f5a",
   "metadata": {},
   "outputs": [],
   "source": [
    "import sys\n",
    "sys.path.append(\"../../src\") \n",
    "\n",
    "import pickle\n",
    "\n",
    "import pandas as pd\n",
    "import numpy as np\n",
    "import networkx as nx\n",
    "import pymc3 as pm\n",
    "\n",
    "from itertools import combinations\n",
    "from tqdm import tqdm\n",
    "\n",
    "import MCMC_Edges as mcmc"
   ]
  },
  {
   "cell_type": "code",
   "execution_count": 174,
   "id": "8c0e2398-d939-4446-b0c1-e03c57547903",
   "metadata": {},
   "outputs": [],
   "source": [
    "LUCAS_NODES = ('Smoking', 'Lung_cancer', 'Genetics', 'Attention_Disorder', 'Yellow_Fingers', 'Anxiety', 'Peer_Pressure', 'Allergy', 'Coughing', 'Fatigue', 'Car_Accident', 'Born_an_Even_Day')\n",
    "POSSIBLE_EDGES = [*combinations(LUCAS_NODES, 2)]"
   ]
  },
  {
   "cell_type": "code",
   "execution_count": 175,
   "id": "e2a2f25a-ae4c-438a-97b1-4c6411dd711f",
   "metadata": {},
   "outputs": [
    {
     "name": "stdout",
     "output_type": "stream",
     "text": [
      "605 networks\n"
     ]
    }
   ],
   "source": [
    "f = open(\"final_population.txt\", \"r\")\n",
    "networks = []\n",
    "\n",
    "for i, x in enumerate(f):\n",
    "    edges_string = x.split(';')[:-1]\n",
    "    network = []\n",
    "    \n",
    "    for edge_str in edges_string:\n",
    "        network\\\n",
    "            .append(\n",
    "                list(\n",
    "                    edge_str[1:-1]\\\n",
    "                        .replace(\"'\", \"\")\\\n",
    "                        .replace(' ', '')\\\n",
    "                        .split(',')\n",
    "                )\n",
    "            )\n",
    "    \n",
    "    networks.append(nx.DiGraph())\n",
    "    networks[i].add_nodes_from(LUCAS_NODES)\n",
    "    networks[i].add_edges_from(network)\n",
    "\n",
    "print(str(len(networks)) + ' networks')"
   ]
  },
  {
   "cell_type": "code",
   "execution_count": 176,
   "id": "536ce348-4409-46d8-bc34-d68f8dd5b748",
   "metadata": {},
   "outputs": [],
   "source": [
    "observed_networks = [[] for i in range(len(networks))]\n",
    "\n",
    "j = 0\n",
    "for i, network in enumerate(networks):\n",
    "    observed_networks[i].append([])\n",
    "\n",
    "    for edge in POSSIBLE_EDGES:\n",
    "        if (edge in network.edges):\n",
    "            observed_networks[i][j].append(-1)\n",
    "        elif ((edge[1], edge[0]) in network.edges):\n",
    "            observed_networks[i][j].append(1)\n",
    "        else: \n",
    "            observed_networks[i][j].append(0)\n",
    "\n",
    "observed_networks = [np.array(x) for x in observed_networks]\n",
    "observed_networks = np.array(observed_networks)"
   ]
  },
  {
   "cell_type": "code",
   "execution_count": 177,
   "id": "0df18a6d-84f2-4725-8888-7e5d4638ef90",
   "metadata": {},
   "outputs": [
    {
     "data": {
      "text/plain": [
       "array([ 1,  0,  0,  1,  1,  0,  0,  0,  0,  0,  0,  0,  0, -1,  0,  0,  0,\n",
       "        0,  0,  0,  0,  0,  0,  0,  0,  0,  0,  0,  0,  0,  0,  0,  0,  0,\n",
       "        0,  0,  0,  0,  0,  0,  0,  0,  0,  0,  0,  0,  0,  0,  0, -1,  0,\n",
       "        0,  0,  0,  0,  0,  0,  0,  0,  0,  0,  0,  0,  0,  0,  0])"
      ]
     },
     "execution_count": 177,
     "metadata": {},
     "output_type": "execute_result"
    }
   ],
   "source": [
    "observed_networks[600][0]"
   ]
  },
  {
   "cell_type": "code",
   "execution_count": 178,
   "id": "6167abec-9822-4949-99fe-7081e7328bb8",
   "metadata": {},
   "outputs": [],
   "source": [
    "values = [-1, 0, 1]\n",
    "k = len(values)          \n",
    "n = len(networks)\n",
    "total_count = len(observed_networks[0])"
   ]
  },
  {
   "cell_type": "code",
   "execution_count": 184,
   "id": "2faee6ca-ac16-4686-8565-979d10c390d6",
   "metadata": {},
   "outputs": [],
   "source": [
    "def learn_edge(edge, edge_index, chains=10, tune=10000, draws=10000, nthreads=10):\n",
    "    observed_edges = mcmc.get_edge_frequency(values, observed_networks, edge_index)\n",
    "\n",
    "    with pm.Model() as model_dm_explicit:\n",
    "        frac = pm.Dirichlet(\"frac\", a=np.ones(k))\n",
    "        conc = pm.Lognormal(\"conc\", mu=1, sigma=1)\n",
    "        p = pm.Dirichlet(\"p\", a=frac * conc, shape=(n, k))\n",
    "\n",
    "        counts = pm.Multinomial(\"counts\", n=total_count, p=p, shape=(n, k), observed=observed_edges)\n",
    "\n",
    "        trace_dm_explicit = pm.sample(chains=chains, tune=tune, draws=draws, step=pm.NUTS(), return_inferencedata=False, cores=nthreads)\n",
    "        \n",
    "        with open('./mcmc/pfp_v1_mcmc_' + edge[0]+\"-\"+edge[1] + '.pickle', 'wb') as handle:\n",
    "            pickle.dump({\n",
    "                'model': model_dm_explicit, \n",
    "                'frac':  frac, \n",
    "                'conc': conc, \n",
    "                'p': p, \n",
    "                'counts': counts, \n",
    "                'trace': trace_dm_explicit\n",
    "            }, handle, protocol=pickle.HIGHEST_PROTOCOL)\n",
    "        \n",
    "        return pm.summary(trace_dm_explicit)"
   ]
  },
  {
   "cell_type": "code",
   "execution_count": null,
   "id": "a6135740-1a8f-4e63-9858-877ce0c29800",
   "metadata": {},
   "outputs": [
    {
     "name": "stderr",
     "output_type": "stream",
     "text": [
      "  0%|                                                    | 0/66 [00:00<?, ?it/s]Multiprocess sampling (10 chains in 20 jobs)\n",
      "NUTS: [p, conc, frac]\n"
     ]
    },
    {
     "data": {
      "text/html": [
       "\n",
       "    <div>\n",
       "        <style>\n",
       "            /* Turns off some styling */\n",
       "            progress {\n",
       "                /* gets rid of default border in Firefox and Opera. */\n",
       "                border: none;\n",
       "                /* Needs to be in here for Safari polyfill so background images work as expected. */\n",
       "                background-size: auto;\n",
       "            }\n",
       "            .progress-bar-interrupted, .progress-bar-interrupted::-webkit-progress-bar {\n",
       "                background: #F44336;\n",
       "            }\n",
       "        </style>\n",
       "      <progress value='12872' class='' max='30000' style='width:300px; height:20px; vertical-align: middle;'></progress>\n",
       "      42.91% [12872/30000 00:25<00:34 Sampling 10 chains, 0 divergences]\n",
       "    </div>\n",
       "    "
      ],
      "text/plain": [
       "<IPython.core.display.HTML object>"
      ]
     },
     "metadata": {},
     "output_type": "display_data"
    }
   ],
   "source": [
    "models = dict()\n",
    "\n",
    "for i, edge in enumerate(tqdm(POSSIBLE_EDGES)):\n",
    "    models[edge[0]+\"-\"+edge[1]] = learn_edge(edge, i, chains=10, tune=1500, draws=1500, nthreads=20)\n",
    "    \n",
    "    clear_output(wait=True)"
   ]
  },
  {
   "cell_type": "code",
   "execution_count": null,
   "id": "ffd40292-8a25-4be6-a3d7-5bcb409c9c9b",
   "metadata": {},
   "outputs": [],
   "source": []
  }
 ],
 "metadata": {
  "kernelspec": {
   "display_name": "Python 3 (ipykernel)",
   "language": "python",
   "name": "python3"
  },
  "language_info": {
   "codemirror_mode": {
    "name": "ipython",
    "version": 3
   },
   "file_extension": ".py",
   "mimetype": "text/x-python",
   "name": "python",
   "nbconvert_exporter": "python",
   "pygments_lexer": "ipython3",
   "version": "3.8.13"
  }
 },
 "nbformat": 4,
 "nbformat_minor": 5
}
