{
 "cells": [
  {
   "cell_type": "code",
   "execution_count": 12,
   "metadata": {},
   "outputs": [],
   "source": [
    "import numpy as np\n",
    "import matplotlib.pyplot as plt\n",
    "from matplotlib.lines import Line2D\n",
    "from matplotlib import colors\n",
    "\n",
    "from pgmpy.models import BayesianNetwork\n",
    "from pgmpy.estimators import MaximumLikelihoodEstimator\n",
    "from pgmpy.estimators import HillClimbSearch\n",
    "from pgmpy.estimators import BDeuScore\n",
    "\n",
    "import seaborn as sns\n",
    "import pandas as pd\n",
    "\n",
    "import os\n",
    "import pickle\n",
    "import math\n",
    "\n",
    "import pymc3 as pm\n",
    "import arviz as az\n",
    "import matplotlib.pyplot as plt\n",
    "import networkx as nx\n",
    "\n",
    "from tqdm import tqdm\n",
    "\n",
    "import itertools as it\n",
    "\n",
    "%matplotlib inline"
   ]
  },
  {
   "cell_type": "code",
   "execution_count": 13,
   "metadata": {},
   "outputs": [],
   "source": [
    "def plot_pair(pair,ax):\n",
    "    fig = plt.figure(figsize=(3.5,4))\n",
    "    \n",
    "    ax = sns.violinplot(data=plot_data[pair],\n",
    "                         cut=0, scale=\"width\", palette=[\"blue\", \"red\", \"green\"], ax=ax)\n",
    "    ax.set(title=pair, ylim=(0,1), xticklabels=[\"Right\", \"No\", \"Left\"])\n",
    "    plt.close(fig)\n",
    "\n",
    "    return fig\n",
    "\n",
    "def calculate_avg_not_exists(item):\n",
    "    return np.mean(item[1][:, 1])\n",
    "\n",
    "def get_map(edge):\n",
    "    data = plot_data[edge]\n",
    "    probs = [np.mean(data[:, 0]), np.mean(data[:, 1]), np.average(data[:, 2])]\n",
    "    direction = np.where(probs == np.amax(probs))\n",
    "    \n",
    "    return direction[0][0]"
   ]
  },
  {
   "cell_type": "code",
   "execution_count": 18,
   "metadata": {},
   "outputs": [
    {
     "name": "stdout",
     "output_type": "stream",
     "text": [
      "Index(['asia', 'tub', 'smoke', 'lung', 'bronc', 'either', 'xray', 'dysp'], dtype='object')\n"
     ]
    },
    {
     "data": {
      "application/vnd.jupyter.widget-view+json": {
       "model_id": "812327edf2e74d2fa32288e70d782c19",
       "version_major": 2,
       "version_minor": 0
      },
      "text/plain": [
       "  0%|          | 0/1000000 [00:00<?, ?it/s]"
      ]
     },
     "metadata": {},
     "output_type": "display_data"
    },
    {
     "name": "stdout",
     "output_type": "stream",
     "text": [
      "-223613.8170770106\n"
     ]
    }
   ],
   "source": [
    "#official_edges = [('Smoking', 'Lung_Cancer'),\n",
    "#                ('Genetics', 'Lung_Cancer'),\n",
    "#                ('Genetics', 'Attention_Disorder'),\n",
    "#                ('Smoking', 'Yellow_Fingers'),\n",
    "#                ('Anxiety', 'Smoking'),\n",
    "#                ('Peer_Pressure', 'Smoking'),\n",
    "#                ('Allergy', 'Coughing'),\n",
    "#                ('Lung_Cancer', 'Coughing'),\n",
    "#                ('Coughing', 'Fatigue'),\n",
    "#                ('Lung_Cancer', 'Fatigue'),\n",
    "#                ('Fatigue', 'Car_Accident'),\n",
    "#                ('Attention_Disorder', 'Car_Accident')]\n",
    "\n",
    "print(data.columns)\n",
    "\n",
    "official_edges = [('asia','tub'),\n",
    "                 ('tub','either'),\n",
    "                 ('smoke','lung'),\n",
    "                 ('smoke','bronc'),\n",
    "                 ('lung','either'),\n",
    "                 ('either','xray'),\n",
    "                 ('either','dysp'),\n",
    "                 ('bronc','dysp'),]\n",
    "\n",
    "data = pd.read_csv('../Example/asia.csv')\n",
    "hc = HillClimbSearch(data)\n",
    "hc_model = hc.estimate(scoring_method=BDeuScore(data))\n",
    "\n",
    "bdeu = BDeuScore(pd.read_csv('../Example/asia.csv'), equivalent_sample_size=5)\n",
    "print(bdeu.score(hc_model))"
   ]
  },
  {
   "cell_type": "code",
   "execution_count": 22,
   "metadata": {},
   "outputs": [
    {
     "name": "stderr",
     "output_type": "stream",
     "text": [
      "100%|██████████████████████████████████████████████████████████████████████████████████████████████████████████████████████████████| 3/3 [00:07<00:00,  2.42s/it]\n"
     ]
    },
    {
     "name": "stdout",
     "output_type": "stream",
     "text": [
      "0\n"
     ]
    }
   ],
   "source": [
    "DIRECTORY = \"../Example/output/2021-11-06T14:26:31.265695_asia/\"\n",
    "\n",
    "possible_edges = [*filter(lambda x: \".pickle\" in x and \"trace_\" in x, os.listdir(DIRECTORY))]\n",
    "\n",
    "plot_data = dict()\n",
    "\n",
    "for possible_edge in tqdm(possible_edges):\n",
    "    edge_name = possible_edge.split(\"trace_\")[1].split(\".pickle\")[0]\n",
    "    node1, node2 = edge_name.split(\"-\")\n",
    "\n",
    "    with open(DIRECTORY + possible_edge, 'rb') as handle:\n",
    "        model = pickle.load(handle)\n",
    "        plot_data[edge_name] = model[\"trace\"][\"frac\"]\n",
    "\n",
    "sorted_x = dict(sorted(plot_data.items(), key=calculate_avg_not_exists))\n",
    "\n",
    "edges = list()\n",
    "for key in sorted_x.keys():\n",
    "    node_left, node_right = key.split(\"-\")\n",
    "    maxima = get_map(key)    \n",
    "    \n",
    "    if maxima == 0:\n",
    "        edges.append((node_left, node_right))\n",
    "        \n",
    "    if maxima == 2:\n",
    "        edges.append((node_right, node_left))\n",
    "        \n",
    "node_names = list(data.columns)\n",
    "\n",
    "#graph_plot(edges, [], '30_nets_1000_samples', node_names)\n",
    "\n",
    "model_struct = BayesianNetwork(ebunch=edges)\n",
    "model_struct.nodes()\n",
    "model_struct.fit(data=pd.read_csv('../Example/asia.csv'), estimator=MaximumLikelihoodEstimator)\n",
    "\n",
    "bdeu = BDeuScore(pd.read_csv('../Example/asia.csv'), equivalent_sample_size=5)\n",
    "print(bdeu.score(model_struct))"
   ]
  },
  {
   "cell_type": "code",
   "execution_count": 23,
   "metadata": {},
   "outputs": [
    {
     "name": "stderr",
     "output_type": "stream",
     "text": [
      "3it [00:01,  2.20it/s]\n"
     ]
    },
    {
     "data": {
      "image/png": "[encoded data removed]",
      "text/plain": [
       "<Figure size 1008x576 with 8 Axes>"
      ]
     },
     "metadata": {
      "needs_background": "light"
     },
     "output_type": "display_data"
    }
   ],
   "source": [
    "MAX_COLS = 4\n",
    "LINES = max(2, math.ceil(len(plot_data.keys()) / MAX_COLS))\n",
    "\n",
    "fig, axs = plt.subplots(LINES, MAX_COLS, figsize=(3.5*MAX_COLS, 4*LINES), sharey=True)\n",
    "\n",
    "for i, key in tqdm(enumerate(sorted_x.keys())):\n",
    "    k = plot_pair(key, axs[i//MAX_COLS][math.floor(i%MAX_COLS)])"
   ]
  },
  {
   "cell_type": "code",
   "execution_count": 24,
   "metadata": {},
   "outputs": [
    {
     "name": "stdout",
     "output_type": "stream",
     "text": [
      "1.0\n",
      "[]\n"
     ]
    }
   ],
   "source": []
  },
  {
   "cell_type": "code",
   "execution_count": null,
   "metadata": {},
   "outputs": [],
   "source": [
    "FP = []\n",
    "FN = []\n",
    "TP = []\n",
    "TN = []\n",
    "\n",
    "#evaluated_model = hc_model.edges()\n",
    "evaluated_model = edges\n",
    "\n",
    "for v0,v1 in it.combinations(data.columns, 2):\n",
    "    edge = (v0, v1)\n",
    "    inverse_edge = (v1, v0)\n",
    "    \n",
    "    if edge in evaluated_model or inverse_edge in evaluated_model:\n",
    "        if edge in official_edges or inverse_edge in official_edges:\n",
    "            TP.append(edge)\n",
    "            \n",
    "        else:\n",
    "            FP.append(edge)\n",
    "    \n",
    "    else:\n",
    "        if edge in official_edges or inverse_edge in official_edges:\n",
    "            FN.append(edge)\n",
    "            \n",
    "        else:\n",
    "            TN.append(edge)\n",
    "            \n",
    "MCC = (len(TP) * len(TN)) - (len(FP)*len(FN))\n",
    "MCC = MCC / math.sqrt((len(TP)+len(FP)) * (len(TP)+len(FN)) * (len(TN)+len(FP)) * (len(TN)+len(FN)))\n",
    "\n",
    "print(MCC)\n",
    "print(FN)\n",
    "\n",
    "digraph = nx.DiGraph()\n",
    "digraph.add_nodes_from(node_names)\n",
    "\n",
    "codes = list()\n",
    "for edge in evaluated_model:\n",
    "    if edge in official_edges:\n",
    "        digraph.add_edge(edge[0], edge[1], color=\"black\", style='-')\n",
    "    elif (edge[1], edge[0]) in official_edges:\n",
    "        digraph.add_edge(edge[0], edge[1], color=\"violet\", style='-')\n",
    "    else:    \n",
    "        digraph.add_edge(edge[0], edge[1], color=\"orange\", style='-')\n",
    "\n",
    "fig, ax = plt.subplots(1, 1, figsize=(15,15))\n",
    "ax.set_title(\"Scenario 3 - 420 samples per replica \\n BDeu: \"+ str(bdeu.score(digraph)))\n",
    "\n",
    "for edge in FN:\n",
    "    digraph.add_edge(edge[0], edge[1], color=\"lightgrey\", style='--')\n",
    "\n",
    "edges_names = digraph.edges()\n",
    "colors = [digraph[u][v]['color'] for u,v in edges_names]\n",
    "\n",
    "# Custom the nodes:\n",
    "nx.draw(digraph, with_labels=True, node_color='red', font_color='white', node_size=15000, width=2.0,\n",
    "    pos=nx.circular_layout(digraph), edge_color=colors, ax=ax)"
   ]
  },
  {
   "cell_type": "code",
   "execution_count": null,
   "metadata": {},
   "outputs": [],
   "source": []
  }
 ],
 "metadata": {
  "kernelspec": {
   "display_name": "Python 3 (ipykernel)",
   "language": "python",
   "name": "python3"
  },
  "language_info": {
   "codemirror_mode": {
    "name": "ipython",
    "version": 3
   },
   "file_extension": ".py",
   "mimetype": "text/x-python",
   "name": "python",
   "nbconvert_exporter": "python",
   "pygments_lexer": "ipython3",
   "version": "3.8.2"
  }
 },
 "nbformat": 4,
 "nbformat_minor": 4
}
