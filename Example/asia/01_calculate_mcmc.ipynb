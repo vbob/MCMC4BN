{
 "cells": [
  {
   "cell_type": "code",
   "execution_count": 1,
   "id": "4ecb2f21-ed7f-458f-8314-0124a07d5e53",
   "metadata": {},
   "outputs": [],
   "source": [
    "%load_ext autoreload\n",
    "%autoreload 2"
   ]
  },
  {
   "cell_type": "code",
   "execution_count": 53,
   "id": "9f448592-2642-4a1d-adfd-dfa6efd0a807",
   "metadata": {},
   "outputs": [],
   "source": [
    "import sys\n",
    "sys.path.append(\"../src\") \n",
    "\n",
    "import pandas as pd\n",
    "\n",
    "from MCMC4BN import MCMC4BN"
   ]
  },
  {
   "cell_type": "code",
   "execution_count": 54,
   "id": "c0bc0c90-1898-4169-9a5c-2658bdfd500b",
   "metadata": {},
   "outputs": [
    {
     "name": "stderr",
     "output_type": "stream",
     "text": [
      "100%|█████████████████████████████████████████████████████████████████████████████████████████████████████████████████████████████████████████████████████| 50/50 [00:17<00:00,  2.93it/s]\n"
     ]
    }
   ],
   "source": [
    "df = pd.read_csv(\"./asia.csv\")\n",
    "mcmcbn = MCMC4BN(df, 'asia', num_replicas=50, num_rounds=10, num_samples=500)\n",
    "mcmcbn.generate_networks()"
   ]
  },
  {
   "cell_type": "code",
   "execution_count": null,
   "id": "38083c4e-c945-44c5-bdca-7fb2b5e3ab7b",
   "metadata": {},
   "outputs": [
    {
     "name": "stderr",
     "output_type": "stream",
     "text": [
      " 18%|██████████████████████████▊                                                                                                                           | 5/28 [07:20<31:49, 83.04s/it]Multiprocess sampling (8 chains in 4 jobs)\n",
      "NUTS: [p, conc, frac]\n"
     ]
    },
    {
     "data": {
      "text/html": [
       "\n",
       "    <div>\n",
       "        <style>\n",
       "            /* Turns off some styling */\n",
       "            progress {\n",
       "                /* gets rid of default border in Firefox and Opera. */\n",
       "                border: none;\n",
       "                /* Needs to be in here for Safari polyfill so background images work as expected. */\n",
       "                background-size: auto;\n",
       "            }\n",
       "            .progress-bar-interrupted, .progress-bar-interrupted::-webkit-progress-bar {\n",
       "                background: #F44336;\n",
       "            }\n",
       "        </style>\n",
       "      <progress value='2021' class='' max='4800' style='width:300px; height:20px; vertical-align: middle;'></progress>\n",
       "      42.10% [2021/4800 00:16<00:22 Sampling 8 chains, 0 divergences]\n",
       "    </div>\n",
       "    "
      ],
      "text/plain": [
       "<IPython.core.display.HTML object>"
      ]
     },
     "metadata": {},
     "output_type": "display_data"
    },
    {
     "name": "stderr",
     "output_type": "stream",
     "text": [
      "Sampling 3 chains for 100 tune and 354 draw iterations (300 + 1_062 draws total) took 37 seconds.\n",
      "The acceptance probability does not match the target. It is 0.8857534634412944, but should be close to 0.8. Try to increase the number of tuning steps.\n",
      "The rhat statistic is larger than 1.2 for some parameters.\n"
     ]
    }
   ],
   "source": [
    "mcmcbn.run(chains=8, tune=100, draws=500, nthreads=4)"
   ]
  },
  {
   "cell_type": "code",
   "execution_count": null,
   "id": "38d38413-1097-4cb1-b3d5-38b19341c084",
   "metadata": {},
   "outputs": [],
   "source": []
  }
 ],
 "metadata": {
  "kernelspec": {
   "display_name": "Python 3 (ipykernel)",
   "language": "python",
   "name": "python3"
  },
  "language_info": {
   "codemirror_mode": {
    "name": "ipython",
    "version": 3
   },
   "file_extension": ".py",
   "mimetype": "text/x-python",
   "name": "python",
   "nbconvert_exporter": "python",
   "pygments_lexer": "ipython3",
   "version": "3.8.2"
  }
 },
 "nbformat": 4,
 "nbformat_minor": 5
}
