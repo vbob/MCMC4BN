{
 "cells": [
  {
   "cell_type": "code",
   "execution_count": 1,
   "id": "4ecb2f21-ed7f-458f-8314-0124a07d5e53",
   "metadata": {},
   "outputs": [],
   "source": [
    "%load_ext autoreload\n",
    "%autoreload 2"
   ]
  },
  {
   "cell_type": "code",
   "execution_count": 5,
   "id": "9f448592-2642-4a1d-adfd-dfa6efd0a807",
   "metadata": {},
   "outputs": [
    {
     "name": "stderr",
     "output_type": "stream",
     "text": [
      "/home/barth/anaconda3/envs/py38/lib/python3.8/site-packages/tqdm/auto.py:22: TqdmWarning: IProgress not found. Please update jupyter and ipywidgets. See https://ipywidgets.readthedocs.io/en/stable/user_install.html\n",
      "  from .autonotebook import tqdm as notebook_tqdm\n"
     ]
    }
   ],
   "source": [
    "import sys\n",
    "sys.path.append(\"../../src\") \n",
    "\n",
    "import pandas as pd\n",
    "\n",
    "from MCMC4BN import MCMC4BN"
   ]
  },
  {
   "cell_type": "code",
   "execution_count": 6,
   "id": "c0bc0c90-1898-4169-9a5c-2658bdfd500b",
   "metadata": {},
   "outputs": [
    {
     "name": "stderr",
     "output_type": "stream",
     "text": [
      "100%|███████████████████████████████████████████| 50/50 [00:12<00:00,  3.94it/s]\n"
     ]
    }
   ],
   "source": [
    "df = pd.read_csv(\"./asia.csv\")\n",
    "mcmcbn = MCMC4BN(df, 'asia', num_replicas=50, num_rounds=10, num_samples=500)\n",
    "mcmcbn.generate_networks()"
   ]
  },
  {
   "cell_type": "code",
   "execution_count": null,
   "id": "38083c4e-c945-44c5-bdca-7fb2b5e3ab7b",
   "metadata": {},
   "outputs": [
    {
     "name": "stderr",
     "output_type": "stream",
     "text": [
      "  0%|                                                    | 0/28 [00:00<?, ?it/s]Multiprocess sampling (10 chains in 20 jobs)\n",
      "NUTS: [p, conc, frac]\n"
     ]
    },
    {
     "data": {
      "text/html": [
       "\n",
       "    <div>\n",
       "        <style>\n",
       "            /* Turns off some styling */\n",
       "            progress {\n",
       "                /* gets rid of default border in Firefox and Opera. */\n",
       "                border: none;\n",
       "                /* Needs to be in here for Safari polyfill so background images work as expected. */\n",
       "                background-size: auto;\n",
       "            }\n",
       "            .progress-bar-interrupted, .progress-bar-interrupted::-webkit-progress-bar {\n",
       "                background: #F44336;\n",
       "            }\n",
       "        </style>\n",
       "      <progress value='58987' class='' max='60000' style='width:300px; height:20px; vertical-align: middle;'></progress>\n",
       "      98.31% [58987/60000 01:40<00:01 Sampling 10 chains, 78 divergences]\n",
       "    </div>\n",
       "    "
      ],
      "text/plain": [
       "<IPython.core.display.HTML object>"
      ]
     },
     "metadata": {},
     "output_type": "display_data"
    }
   ],
   "source": [
    "mcmcbn.run(chains=10, tune=1000, draws=5000, nthreads=20)"
   ]
  },
  {
   "cell_type": "code",
   "execution_count": null,
   "id": "38d38413-1097-4cb1-b3d5-38b19341c084",
   "metadata": {},
   "outputs": [],
   "source": []
  }
 ],
 "metadata": {
  "kernelspec": {
   "display_name": "Python 3 (ipykernel)",
   "language": "python",
   "name": "python3"
  },
  "language_info": {
   "codemirror_mode": {
    "name": "ipython",
    "version": 3
   },
   "file_extension": ".py",
   "mimetype": "text/x-python",
   "name": "python",
   "nbconvert_exporter": "python",
   "pygments_lexer": "ipython3",
   "version": "3.9.13"
  }
 },
 "nbformat": 4,
 "nbformat_minor": 5
}
