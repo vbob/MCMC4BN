{
 "cells": [
  {
   "cell_type": "code",
   "execution_count": 6,
   "id": "4ecb2f21-ed7f-458f-8314-0124a07d5e53",
   "metadata": {},
   "outputs": [],
   "source": [
    "%load_ext autoreload\n",
    "%autoreload 2"
   ]
  },
  {
   "cell_type": "code",
   "execution_count": 7,
   "id": "9f448592-2642-4a1d-adfd-dfa6efd0a807",
   "metadata": {},
   "outputs": [],
   "source": [
    "import sys\n",
    "sys.path.append(\"../src\") \n",
    "\n",
    "import pandas as pd\n",
    "\n",
    "from MCMC4BN import MCMC4BN"
   ]
  },
  {
   "cell_type": "code",
   "execution_count": 4,
   "id": "c0bc0c90-1898-4169-9a5c-2658bdfd500b",
   "metadata": {},
   "outputs": [
    {
     "name": "stderr",
     "output_type": "stream",
     "text": [
      "100%|██████████████████████████████████████████████████████████████████████████████████████████████████████████████████████████████████████████████████████████████████████████████| 15/15 [00:14<00:00,  1.02it/s]\n"
     ]
    }
   ],
   "source": [
    "df = pd.read_csv(\"./lucas0.csv\")\n",
    "mcmcbn = MCMC4BN(df, 'lucas0', num_replicas=15, num_rounds=2)\n",
    "mcmcbn.generate_networks()"
   ]
  },
  {
   "cell_type": "code",
   "execution_count": null,
   "id": "38083c4e-c945-44c5-bdca-7fb2b5e3ab7b",
   "metadata": {},
   "outputs": [
    {
     "name": "stderr",
     "output_type": "stream",
     "text": [
      "Multiprocess sampling (10 chains in 10 jobs)\n",
      "NUTS: [p, conc, frac]\n"
     ]
    },
    {
     "data": {
      "text/html": [
       "\n",
       "    <div>\n",
       "        <style>\n",
       "            /* Turns off some styling */\n",
       "            progress {\n",
       "                /* gets rid of default border in Firefox and Opera. */\n",
       "                border: none;\n",
       "                /* Needs to be in here for Safari polyfill so background images work as expected. */\n",
       "                background-size: auto;\n",
       "            }\n",
       "            .progress-bar-interrupted, .progress-bar-interrupted::-webkit-progress-bar {\n",
       "                background: #F44336;\n",
       "            }\n",
       "        </style>\n",
       "      <progress value='199757' class='' max='200000' style='width:300px; height:20px; vertical-align: middle;'></progress>\n",
       "      99.88% [199757/200000 04:47<00:00 Sampling 10 chains, 16 divergences]\n",
       "    </div>\n",
       "    "
      ],
      "text/plain": [
       "<IPython.core.display.HTML object>"
      ]
     },
     "metadata": {},
     "output_type": "display_data"
    }
   ],
   "source": [
    "mcmcbn.run(chains=10, tune=10000, draws=10000, nthreads=10)"
   ]
  },
  {
   "cell_type": "code",
   "execution_count": null,
   "id": "8121b535-1694-45da-ad19-3f04a5fad2a1",
   "metadata": {},
   "outputs": [],
   "source": []
  }
 ],
 "metadata": {
  "kernelspec": {
   "display_name": "Python 3 (ipykernel)",
   "language": "python",
   "name": "python3"
  },
  "language_info": {
   "codemirror_mode": {
    "name": "ipython",
    "version": 3
   },
   "file_extension": ".py",
   "mimetype": "text/x-python",
   "name": "python",
   "nbconvert_exporter": "python",
   "pygments_lexer": "ipython3",
   "version": "3.8.12"
  }
 },
 "nbformat": 4,
 "nbformat_minor": 5
}
