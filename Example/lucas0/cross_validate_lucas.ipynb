{
 "cells": [
  {
   "cell_type": "code",
   "execution_count": 1,
   "id": "4783a203-9297-4c06-aeac-fa09e602299f",
   "metadata": {},
   "outputs": [],
   "source": [
    "import random\n",
    "\n",
    "import pandas as pd\n",
    "import networkx as nx\n",
    "\n",
    "from pgmpy.models import BayesianNetwork\n",
    "from pgmpy.estimators import HillClimbSearch, BDeuScore, BicScore, K2Score, MaximumLikelihoodEstimator\n",
    "from pgmpy.factors.discrete import TabularCPD\n",
    "from pgmpy.inference import VariableElimination\n",
    "from pgmpy.sampling import BayesianModelSampling\n",
    "\n",
    "from tqdm import tqdm\n",
    "from pathlib import Path\n",
    "from sklearn.model_selection import KFold"
   ]
  },
  {
   "cell_type": "code",
   "execution_count": 2,
   "id": "119c79e5-485d-48ec-9710-1e63736c2d03",
   "metadata": {},
   "outputs": [],
   "source": [
    "N_SPLITS_1 = 100\n",
    "\n",
    "N_PARAMS = 21\n",
    "R = 20\n",
    "\n",
    "N_SAMPLES = int(21 * R)"
   ]
  },
  {
   "cell_type": "code",
   "execution_count": 3,
   "id": "973d4295-e48c-457c-a564-155b18caafbf",
   "metadata": {},
   "outputs": [
    {
     "name": "stderr",
     "output_type": "stream",
     "text": [
      "100%|█████████████████████████████████████████████████████████████████████████████████████████████████████████████████████████████████████████████████████████████████████| 100/100 [01:26<00:00,  1.15it/s]\n"
     ]
    }
   ],
   "source": [
    "network = \"lucas0\"\n",
    "        \n",
    "rounds = N_SPLITS_1\n",
    "\n",
    "folder = \"./cross_validated_datasets/\" +  network + \"/\" + str(R) + \"/\"\n",
    "Path(folder).mkdir(parents=True, exist_ok=True)    \n",
    "\n",
    "data =  pd.read_csv(\"./lucas0.csv\")\n",
    "\n",
    "for i in tqdm(range(rounds)):\n",
    "    df = data.sample(N_SAMPLES, replace=True)\n",
    "    \n",
    "    outer_cv = KFold(n_splits=N_SPLITS_1, shuffle=True, random_state=i)\n",
    "\n",
    "    for outer_train_index, outer_test_index in outer_cv.split(df):\n",
    "        outer_train, outer_test = df.iloc[outer_train_index].reset_index(drop=True),\\\n",
    "                                  df.iloc[outer_test_index].reset_index(drop=True)\n",
    "        \n",
    "        outer_train.to_csv(folder + network + \"_\" + str(R) + \"_\" + str(i) + \".csv\", index=False)"
   ]
  },
  {
   "cell_type": "code",
   "execution_count": null,
   "id": "835886d5-c158-4c16-8ddd-4977348af3ef",
   "metadata": {},
   "outputs": [],
   "source": []
  }
 ],
 "metadata": {
  "kernelspec": {
   "display_name": "Python 3 (ipykernel)",
   "language": "python",
   "name": "python3"
  },
  "language_info": {
   "codemirror_mode": {
    "name": "ipython",
    "version": 3
   },
   "file_extension": ".py",
   "mimetype": "text/x-python",
   "name": "python",
   "nbconvert_exporter": "python",
   "pygments_lexer": "ipython3",
   "version": "3.8.13"
  }
 },
 "nbformat": 4,
 "nbformat_minor": 5
}
