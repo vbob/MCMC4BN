{
 "cells": [
  {
   "cell_type": "code",
   "execution_count": 23,
   "id": "4783a203-9297-4c06-aeac-fa09e602299f",
   "metadata": {},
   "outputs": [],
   "source": [
    "import random\n",
    "\n",
    "import pandas as pd\n",
    "import networkx as nx\n",
    "\n",
    "from pgmpy.models import BayesianNetwork\n",
    "from pgmpy.estimators import HillClimbSearch, BDeuScore, BicScore, K2Score, MaximumLikelihoodEstimator\n",
    "from pgmpy.factors.discrete import TabularCPD\n",
    "from pgmpy.inference import VariableElimination\n",
    "from pgmpy.sampling import BayesianModelSampling\n",
    "\n",
    "from tqdm import tqdm\n",
    "from pathlib import Path\n",
    "from sklearn.model_selection import KFold"
   ]
  },
  {
   "cell_type": "code",
   "execution_count": 33,
   "id": "119c79e5-485d-48ec-9710-1e63736c2d03",
   "metadata": {},
   "outputs": [
    {
     "data": {
      "text/plain": [
       "10000"
      ]
     },
     "execution_count": 33,
     "metadata": {},
     "output_type": "execute_result"
    }
   ],
   "source": [
    "N_SPLITS = 1000\n",
    "data =  pd.read_csv(\"./lucas0_1000000.csv\")\n",
    "N_SAMPLES_PER_SPLIT = len(data)*10//(N_SPLITS)\n",
    "N_SAMPLES_PER_SPLIT"
   ]
  },
  {
   "cell_type": "code",
   "execution_count": 34,
   "id": "973d4295-e48c-457c-a564-155b18caafbf",
   "metadata": {},
   "outputs": [
    {
     "name": "stderr",
     "output_type": "stream",
     "text": [
      "100%|████████████████████████████████████████████████████████████████████| 1000/1000 [00:18<00:00, 54.51it/s]\n"
     ]
    }
   ],
   "source": [
    "network = \"lucas0\"\n",
    "N_SAMPLES_PER_SPLIT = len(data)//N_SPLITS\n",
    "\n",
    "folder = \"./cross_validated_datasets/\" +  network + \"/\" + str(len(data)) + \"/\"\n",
    "Path(folder).mkdir(parents=True, exist_ok=True)    \n",
    "\n",
    "for i in tqdm(range(N_SPLITS)):\n",
    "    df = data.sample(N_SAMPLES_PER_SPLIT, random_state=1, replace=False)\n",
    "    df.to_csv(folder + network + \"_\" + str(len(data)) + \"_\" + str(i) + \".csv\", index=False)"
   ]
  },
  {
   "cell_type": "code",
   "execution_count": null,
   "id": "835886d5-c158-4c16-8ddd-4977348af3ef",
   "metadata": {},
   "outputs": [],
   "source": []
  }
 ],
 "metadata": {
  "kernelspec": {
   "display_name": "Python 3 (ipykernel)",
   "language": "python",
   "name": "python3"
  },
  "language_info": {
   "codemirror_mode": {
    "name": "ipython",
    "version": 3
   },
   "file_extension": ".py",
   "mimetype": "text/x-python",
   "name": "python",
   "nbconvert_exporter": "python",
   "pygments_lexer": "ipython3",
   "version": "3.9.13"
  }
 },
 "nbformat": 4,
 "nbformat_minor": 5
}
