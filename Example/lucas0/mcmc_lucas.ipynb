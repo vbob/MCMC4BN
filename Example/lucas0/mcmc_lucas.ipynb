{
 "cells": [
  {
   "cell_type": "code",
   "execution_count": 6,
   "id": "a052ba9d-35b4-4af9-ab8f-ab285216001e",
   "metadata": {},
   "outputs": [],
   "source": [
    "import networkx as nx\n",
    "import pandas as pd\n",
    "import numpy as np\n",
    "import arviz as az\n",
    "import matplotlib.pyplot as plt\n",
    "import pymc3 as pm\n",
    "import scipy as sp\n",
    "import scipy.stats\n",
    "import seaborn as sns\n",
    "\n",
    "from pgmpy.estimators import HillClimbSearch\n",
    "from pgmpy.estimators import BDeuScore\n",
    "from tqdm import tqdm\n",
    "from itertools import combinations\n",
    "from graphviz import Digraph\n",
    "from itertools import combinations\n",
    "from IPython.display import clear_output\n",
    "from timeit import default_timer as timer\n",
    "from datetime import timedelta\n",
    "\n",
    "import pickle\n",
    "import os"
   ]
  },
  {
   "cell_type": "code",
   "execution_count": 2,
   "id": "05d06954-6437-409c-b231-d33e86256cc6",
   "metadata": {},
   "outputs": [
    {
     "name": "stderr",
     "output_type": "stream",
     "text": [
      "100it [01:19,  1.26it/s]\n"
     ]
    }
   ],
   "source": [
    "networks = dict()\n",
    "df_path = './cross_validated_datasets/lucas0/1000000/'\n",
    "\n",
    "for i, file in tqdm(enumerate([*filter(lambda x: 'lucas' in x, os.listdir(df_path))])):\n",
    "    data = pd.read_csv(df_path + file)\n",
    "    \n",
    "    networks[i] = list()\n",
    "\n",
    "    scoring_method = BDeuScore(data=data)    \n",
    "    est = HillClimbSearch(data=data)\n",
    "    networks[i].append(est.estimate(scoring_method=scoring_method, max_indegree=5, max_iter=int(1e4), show_progress=False))"
   ]
  },
  {
   "cell_type": "code",
   "execution_count": 3,
   "id": "54a92b5e-752b-4f5f-a487-643bf565c64e",
   "metadata": {},
   "outputs": [
    {
     "name": "stderr",
     "output_type": "stream",
     "text": [
      "100it [00:00, 28164.81it/s]\n"
     ]
    }
   ],
   "source": [
    "data = pd.read_csv(df_path + 'lucas0_1000000_0.csv')\n",
    "edges = [*combinations(data.columns, 2)]\n",
    "\n",
    "observed_networks = [[] for i in range(len(networks))]\n",
    "\n",
    "for i, file in tqdm(enumerate([*filter(lambda x: 'lucas' in x, os.listdir(df_path))])):\n",
    "    for j, network in enumerate(networks[i]):\n",
    "        observed_networks[i].append([])\n",
    "        \n",
    "        for edge in edges:\n",
    "            if (edge in network.edges):\n",
    "                observed_networks[i][j].append(-1)\n",
    "            elif ((edge[1], edge[0]) in network.edges):\n",
    "                observed_networks[i][j].append(1)\n",
    "            else: \n",
    "                observed_networks[i][j].append(0)\n",
    "\n",
    "observed_networks = [np.array(x) for x in observed_networks]\n",
    "observed_networks = np.array(observed_networks)"
   ]
  },
  {
   "cell_type": "code",
   "execution_count": 4,
   "id": "745a19be-e236-4239-bba6-fbd575f6252c",
   "metadata": {},
   "outputs": [],
   "source": [
    "values = [-1, 0, 1]\n",
    "k = len(values)          \n",
    "n = len(networks)\n",
    "total_count = len(observed_networks[0])"
   ]
  },
  {
   "cell_type": "code",
   "execution_count": 7,
   "id": "fee43f28-8d9b-4a30-901f-c8076f715efa",
   "metadata": {},
   "outputs": [],
   "source": [
    "def get_edge_frequency(values, observed_networks, edge_index):\n",
    "    \"\"\"\n",
    "    values: list of possible values for each edge (ex: [0, 1, 2] or [-1, 0, 1])\n",
    "    observed_networks: list of networks observed\n",
    "    edge_index: edged which will be counted\n",
    "    \"\"\"\n",
    "    \n",
    "    observations = list()\n",
    "    \n",
    "    for edge_list in observed_networks:\n",
    "        edges_obs = edge_list[:, edge_index]\n",
    "\n",
    "        rightEdge = np.sum(edges_obs == values[0])\n",
    "        noEdge = np.sum(edges_obs == values[1])\n",
    "        leftEdge = np.sum(edges_obs == values[2])\n",
    "\n",
    "        observations.append([rightEdge, noEdge, leftEdge])\n",
    "    \n",
    "    return observations\n",
    "\n",
    "\n",
    "def learn_edge(edge, edge_index, chains=10, tune=10000, draws=10000, nthreads=10):\n",
    "    observed_edges = get_edge_frequency(values, observed_networks, edge_index)\n",
    "\n",
    "    with pm.Model() as model_dm_explicit:\n",
    "        frac = pm.Dirichlet(\"frac\", a=np.ones(k))\n",
    "        conc = pm.Lognormal(\"conc\", mu=1, sigma=1)\n",
    "        counts = pm.DirichletMultinomial(\n",
    "            \"counts\", n=total_count, a=frac * conc, shape=(n, k), observed=observed_edges\n",
    "        )\n",
    "\n",
    "        trace_dm_explicit = pm.sample(chains=chains, tune=tune, draws=draws, step=pm.NUTS(), return_inferencedata=False, cores=nthreads)\n",
    "   \n",
    "        with open('./mcmc/lucas0_1000000' + str(chains) + '_t' + str(tune) + '_d'+ str(draws) + '_mcmc_' + edge[0]+\"-\"+edge[1] + '.pickle', 'wb') as handle:\n",
    "            pickle.dump({\n",
    "                'model': model_dm_explicit, \n",
    "                'frac':  frac, \n",
    "                'conc': conc, \n",
    "                'counts': counts, \n",
    "                'trace': trace_dm_explicit\n",
    "            }, handle, protocol=pickle.HIGHEST_PROTOCOL)\n",
    "        \n",
    "        return pm.summary(trace_dm_explicit)"
   ]
  },
  {
   "cell_type": "code",
   "execution_count": null,
   "id": "0e2b1a2a-8b63-4fe9-880f-0af9cdb7b37d",
   "metadata": {},
   "outputs": [
    {
     "name": "stderr",
     "output_type": "stream",
     "text": [
      "  5%|███▏                                                                  | 3/66 [07:49<2:50:25, 162.31s/it]Multiprocess sampling (10 chains in 10 jobs)\n",
      "NUTS: [conc, frac]\n"
     ]
    },
    {
     "data": {
      "text/html": [
       "\n",
       "<style>\n",
       "    /* Turns off some styling */\n",
       "    progress {\n",
       "        /* gets rid of default border in Firefox and Opera. */\n",
       "        border: none;\n",
       "        /* Needs to be in here for Safari polyfill so background images work as expected. */\n",
       "        background-size: auto;\n",
       "    }\n",
       "    progress:not([value]), progress:not([value])::-webkit-progress-bar {\n",
       "        background: repeating-linear-gradient(45deg, #7e7e7e, #7e7e7e 10px, #5c5c5c 10px, #5c5c5c 20px);\n",
       "    }\n",
       "    .progress-bar-interrupted, .progress-bar-interrupted::-webkit-progress-bar {\n",
       "        background: #F44336;\n",
       "    }\n",
       "</style>\n"
      ],
      "text/plain": [
       "<IPython.core.display.HTML object>"
      ]
     },
     "metadata": {},
     "output_type": "display_data"
    },
    {
     "data": {
      "text/html": [
       "\n",
       "    <div>\n",
       "      <progress value='197113' class='' max='500000' style='width:300px; height:20px; vertical-align: middle;'></progress>\n",
       "      39.42% [197113/500000 00:43&lt;01:06 Sampling 10 chains, 42 divergences]\n",
       "    </div>\n",
       "    "
      ],
      "text/plain": [
       "<IPython.core.display.HTML object>"
      ]
     },
     "metadata": {},
     "output_type": "display_data"
    }
   ],
   "source": [
    "start = timer()\n",
    "\n",
    "models = dict()\n",
    "\n",
    "for i, edge in enumerate(tqdm(edges)):\n",
    "    models[edge[0]+\"-\"+edge[1]] = learn_edge(edge, i, chains=10, tune=25000, draws=25000, nthreads=10)\n",
    "    \n",
    "    clear_output(wait=True)\n",
    "\n",
    "end = timer()\n",
    "elapsed_time = timedelta(seconds=end-start)\n",
    "print(elapsed_time)"
   ]
  },
  {
   "cell_type": "code",
   "execution_count": null,
   "id": "8bdc5913-4c0d-434e-8fb4-a4e99046d926",
   "metadata": {},
   "outputs": [],
   "source": []
  }
 ],
 "metadata": {
  "kernelspec": {
   "display_name": "Python 3 (ipykernel)",
   "language": "python",
   "name": "python3"
  },
  "language_info": {
   "codemirror_mode": {
    "name": "ipython",
    "version": 3
   },
   "file_extension": ".py",
   "mimetype": "text/x-python",
   "name": "python",
   "nbconvert_exporter": "python",
   "pygments_lexer": "ipython3",
   "version": "3.9.13"
  }
 },
 "nbformat": 4,
 "nbformat_minor": 5
}
